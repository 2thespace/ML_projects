{
 "cells": [
  {
   "cell_type": "markdown",
   "metadata": {},
   "source": [
    "# Основы Python"
   ]
  },
  {
   "cell_type": "markdown",
   "metadata": {},
   "source": [
    "## Задачки\n",
    "* [Что по циклам?](#задание---что-по-циклам)\n",
    "* [Вспомним математику](#задание---вспомни-математику) \n",
    "* [Свой класс](#задание---попробуй-написать-свой-класс)\n",
    "* [Закрепим range](#задание---закрепим-range)\n",
    "* [Немного о себе](#задание---расскажи-немного-о-себе)\n",
    "\n",
    "\n",
    "\n",
    "\n",
    "\n"
   ]
  },
  {
   "cell_type": "markdown",
   "metadata": {},
   "source": [
    "## Поиграемся с циклами "
   ]
  },
  {
   "cell_type": "code",
   "execution_count": 54,
   "metadata": {},
   "outputs": [
    {
     "name": "stdout",
     "output_type": "stream",
     "text": [
      "0\n",
      "1\n",
      "2\n",
      "3\n",
      "4\n",
      "5\n",
      "6\n",
      "7\n",
      "8\n",
      "9\n",
      "0\n",
      "1\n",
      "2\n",
      "3\n",
      "4\n",
      "5\n",
      "6\n",
      "7\n",
      "8\n",
      "9\n",
      "['a', 'b', 'c', 'd', 'e', 'f']\n",
      "0 - a\n",
      "1 - b\n",
      "2 - c\n",
      "3 - d\n",
      "4 - e\n",
      "5 - f\n"
     ]
    }
   ],
   "source": [
    "# 1 \n",
    "iter = 0\n",
    "while iter < 10:\n",
    "    print(iter)\n",
    "    # Python не имеет операций инкремента/декремента (++/--)\n",
    "    iter += 1\n",
    "# 2\n",
    "for iter in range(10):\n",
    "    print(iter) \n",
    "# 3\n",
    "names = list('abcdef')\n",
    "print(names)\n",
    "for num, elem in enumerate(names):\n",
    "    print(num,'-',elem)"
   ]
  },
  {
   "cell_type": "markdown",
   "metadata": {},
   "source": [
    "Ура работает!\n"
   ]
  },
  {
   "cell_type": "markdown",
   "metadata": {},
   "source": [
    "### Задание - что по циклам?\n",
    "    Необходимо создать свой список и проход по нему"
   ]
  },
  {
   "cell_type": "code",
   "execution_count": 55,
   "metadata": {},
   "outputs": [
    {
     "name": "stdout",
     "output_type": "stream",
     "text": [
      "(0, 'L')\n",
      "(1, 'O')\n",
      "(2, 'O')\n",
      "(3, 'O')\n",
      "(4, 'O')\n",
      "(5, 'O')\n",
      "(6, 'O')\n",
      "(7, 'O')\n",
      "(8, 'O')\n",
      "(9, 'O')\n",
      "(10, 'O')\n",
      "(11, 'P')\n"
     ]
    }
   ],
   "source": [
    "my_list = list('LOOOOOOOOOOP')\n",
    "\n",
    "for i in enumerate(my_list):\n",
    "    print(i)\n"
   ]
  },
  {
   "cell_type": "markdown",
   "metadata": {},
   "source": [
    "### Задание - закрепим range\n",
    "    Необходимо создать список из 20 последовательных элементов от 5 до 25 и вывести первые 10 элементов    "
   ]
  },
  {
   "cell_type": "code",
   "execution_count": 56,
   "metadata": {},
   "outputs": [
    {
     "name": "stdout",
     "output_type": "stream",
     "text": [
      "5\n",
      "6\n",
      "7\n",
      "8\n",
      "9\n",
      "10\n",
      "11\n",
      "12\n",
      "13\n",
      "14\n"
     ]
    }
   ],
   "source": [
    "import numpy as np\n",
    "my_list = list((np.linspace(5,25,20))) # простое создание диапазона от 5 до 25. Правда он типа float...\n",
    "for i in range(10):\n",
    "    print(int(my_list[i]))"
   ]
  },
  {
   "cell_type": "markdown",
   "metadata": {},
   "source": [
    "## Функции"
   ]
  },
  {
   "cell_type": "markdown",
   "metadata": {},
   "source": [
    "Создадим простенькую функцию и проверим ее работоспособность"
   ]
  },
  {
   "cell_type": "code",
   "execution_count": 57,
   "metadata": {},
   "outputs": [
    {
     "name": "stdout",
     "output_type": "stream",
     "text": [
      "322\n"
     ]
    }
   ],
   "source": [
    "def sum(a, b):\n",
    "    return a + b\n",
    "\n",
    "print(sum(100, 222))"
   ]
  },
  {
   "cell_type": "markdown",
   "metadata": {},
   "source": [
    "### Задание - Вспомни математику\n",
    "    Необходимо написать функцию, реализующую нахождение периметра прямоугольника по его длине и ширине"
   ]
  },
  {
   "cell_type": "code",
   "execution_count": 58,
   "metadata": {},
   "outputs": [
    {
     "name": "stdout",
     "output_type": "stream",
     "text": [
      "100\n"
     ]
    }
   ],
   "source": [
    "def rec_per(width, heidth):\n",
    "    return 2*(width + heidth)\n",
    "\n",
    "print(rec_per(13,37))"
   ]
  },
  {
   "cell_type": "markdown",
   "metadata": {},
   "source": [
    "Проверим, а вдруг неправильно\n",
    "\n",
    "![rectangle per](../utilit_images/rec_per.png)"
   ]
  },
  {
   "cell_type": "markdown",
   "metadata": {},
   "source": [
    "### Дзен питона"
   ]
  },
  {
   "cell_type": "code",
   "execution_count": 59,
   "metadata": {},
   "outputs": [],
   "source": [
    "import this"
   ]
  },
  {
   "cell_type": "markdown",
   "metadata": {},
   "source": [
    "## Классы и объекты\n"
   ]
  },
  {
   "cell_type": "markdown",
   "metadata": {},
   "source": [
    "### Первый раз в первый класс\n",
    "    Создадим первый класс"
   ]
  },
  {
   "cell_type": "code",
   "execution_count": 60,
   "metadata": {},
   "outputs": [
    {
     "name": "stdout",
     "output_type": "stream",
     "text": [
      "sample_method() called with 1\n",
      "sample_method() called with 2\n"
     ]
    }
   ],
   "source": [
    "class MyClass:\n",
    "    def __init__(self, value):\n",
    "        self.member_var = value\n",
    "    \n",
    "    def sample_method(self):\n",
    "        print(f'sample_method() called with {self.member_var}')\n",
    "    \n",
    "# создадим объекты класса\n",
    "first = MyClass(1)\n",
    "second = MyClass(2)\n",
    "first.sample_method()\n",
    "second.sample_method()"
   ]
  },
  {
   "cell_type": "markdown",
   "metadata": {},
   "source": [
    "Небольшое закрепление"
   ]
  },
  {
   "cell_type": "code",
   "execution_count": 61,
   "metadata": {},
   "outputs": [
    {
     "data": {
      "text/plain": [
       "[1, 2, 3, 10]"
      ]
     },
     "execution_count": 61,
     "metadata": {},
     "output_type": "execute_result"
    }
   ],
   "source": [
    "sample_list = list([1, 2, 3])\n",
    "# То же самое: sample_list = [1, 2, 3]\n",
    "\n",
    "sample_list.append(10)\n",
    "\n",
    "sample_list"
   ]
  },
  {
   "cell_type": "markdown",
   "metadata": {},
   "source": [
    "### Задание - попробуй написать свой класс\n",
    "    В классе необходимо реализовать: \n",
    "        1 метод - получает число x и  производит вычисление 2exp(x)\n",
    "    Вывести с помощью данного метода класса значения при аргументе [4,..,12]\n",
    "    "
   ]
  },
  {
   "cell_type": "code",
   "execution_count": 62,
   "metadata": {},
   "outputs": [
    {
     "ename": "SyntaxError",
     "evalue": "invalid syntax (2751937579.py, line 3)",
     "output_type": "error",
     "traceback": [
      "\u001b[1;36m  Cell \u001b[1;32mIn [62], line 3\u001b[1;36m\u001b[0m\n\u001b[1;33m    range? # узнаем о range\u001b[0m\n\u001b[1;37m         ^\u001b[0m\n\u001b[1;31mSyntaxError\u001b[0m\u001b[1;31m:\u001b[0m invalid syntax\n"
     ]
    }
   ],
   "source": [
    "import math # подключение библиотеки math для функции exp\n",
    "\n",
    "range? # узнаем о range\n",
    "class ExpClass:\n",
    "    #my_list = range(4,12)\n",
    "    def Efunc(x):\n",
    "            return 2*math.exp(x)\n",
    "\n",
    "obj = ExpClass\n",
    "for i in range(4,12):\n",
    "    print(obj.Efunc(i))\n",
    "print('\\n')"
   ]
  },
  {
   "cell_type": "markdown",
   "metadata": {},
   "source": [
    "## Type Hinting\n",
    "\n",
    "    Позволяет подсказать тип аргумента разработчикам. При этом допустимо преобразование типов"
   ]
  },
  {
   "cell_type": "code",
   "execution_count": null,
   "metadata": {},
   "outputs": [
    {
     "name": "stdout",
     "output_type": "stream",
     "text": [
      "<class 'str'>\n"
     ]
    }
   ],
   "source": [
    "class MyClass:\n",
    "    def __init__(self, name: str, age: int):    # двоеточие - входной тип\n",
    "        self.name = name \n",
    "        self.age = age\n",
    "    \n",
    "    def get_age(self) -> int:                   # стрелочка - выходной тип\n",
    "        return self.age\n",
    "\n",
    "my_class = MyClass(123, \"immortal\")             # указали int, передаем string\n",
    "age = my_class.get_age()\n",
    "print(type(age))                                # при этом ошибок нет. Произошло преобразование"
   ]
  },
  {
   "cell_type": "markdown",
   "metadata": {},
   "source": [
    "## Существование переменных\n",
    "\n",
    "    Если переменные(атрибуты) класса не созданы явно, но объявлены в параметрах метода, они создаются автоматически при вызове метода класса"
   ]
  },
  {
   "cell_type": "markdown",
   "metadata": {},
   "source": []
  },
  {
   "cell_type": "code",
   "execution_count": null,
   "metadata": {},
   "outputs": [
    {
     "name": "stdout",
     "output_type": "stream",
     "text": [
      "Всё пропало, шеф. Ошибка:\n",
      " Traceback (most recent call last):\n",
      "  File \"C:\\Users\\dante\\AppData\\Local\\Temp\\ipykernel_12460\\1492972291.py\", line 17, in print_attr_and_find_error\n",
      "    a.print_attr()\n",
      "  File \"C:\\Users\\dante\\AppData\\Local\\Temp\\ipykernel_12460\\1492972291.py\", line 10, in print_attr\n",
      "    print(self.attr)\n",
      "AttributeError: 'MyClass_2' object has no attribute 'attr'\n",
      "\n",
      "Some_data_of_attribute\n",
      " Ошибок нет\n"
     ]
    }
   ],
   "source": [
    "import traceback\n",
    "\n",
    "class MyClass_2:\n",
    "    def __init__(self):\n",
    "        # Хорошая практика - перечислять все атрибуты класса в конструкторе, то есть здесь\n",
    "        # В этом случае мы специально это не делаем для примера\n",
    "        pass\n",
    "    \n",
    "    def print_attr(self):\n",
    "        print(self.attr)\n",
    "    \n",
    "    def def_attr(self):\n",
    "        self.attr = \"Some_data_of_attribute\"\n",
    "\n",
    "def print_attr_and_find_error(a: MyClass_2):\n",
    "    try:\n",
    "        a.print_attr()\n",
    "    except: \n",
    "        # при любой зафиксированной ошибке при выполнении кода в try выбирается эта ветка\n",
    "        print('Всё пропало, шеф. Ошибка:\\n', traceback.format_exc())\n",
    "    else:   \n",
    "        # если ошибок нет, то эта\n",
    "        print(\" Ошибок нет\")\n",
    "\n",
    "a = MyClass_2()\n",
    "print_attr_and_find_error(a)\n",
    "a.def_attr()\n",
    "print_attr_and_find_error(a)"
   ]
  },
  {
   "cell_type": "markdown",
   "metadata": {},
   "source": [
    "## Форматированные строки"
   ]
  },
  {
   "cell_type": "markdown",
   "metadata": {},
   "source": [
    "### Форматирование в стиле СИ"
   ]
  },
  {
   "cell_type": "code",
   "execution_count": null,
   "metadata": {},
   "outputs": [
    {
     "name": "stdout",
     "output_type": "stream",
     "text": [
      "Привет, меня зовут Максим и мне 23\n"
     ]
    }
   ],
   "source": [
    "name = \"Максим\"\n",
    "age = 23\n",
    "template_string = 'Привет, меня зовут %s и мне %d'\n",
    "formatted_string = template_string % (name, age)\n",
    "print(formatted_string)"
   ]
  },
  {
   "cell_type": "markdown",
   "metadata": {},
   "source": [
    "### Форматирование в стиле Python"
   ]
  },
  {
   "cell_type": "code",
   "execution_count": null,
   "metadata": {},
   "outputs": [
    {
     "name": "stdout",
     "output_type": "stream",
     "text": [
      "Привет, меня зовут Максим и мне 23\n",
      "Сравним 0.444444444, 0.44, 0.4\n"
     ]
    }
   ],
   "source": [
    "name = \"Максим\"\n",
    "age = 23\n",
    "print('Привет, меня зовут {} и мне {}'.format(name, age))\n",
    "var = 0.444444444\n",
    "print('Сравним {}, {:.2f}, {:.1f}'.format(var, var, var))"
   ]
  },
  {
   "cell_type": "markdown",
   "metadata": {},
   "source": [
    "### F-строки\n",
    "![\"FFFF\"](../utilit_images/0b4.jpg)"
   ]
  },
  {
   "cell_type": "code",
   "execution_count": 69,
   "metadata": {},
   "outputs": [
    {
     "name": "stdout",
     "output_type": "stream",
     "text": [
      "Сравним 0.173456, 0.17, 0.2\n"
     ]
    }
   ],
   "source": [
    "# Обратите внимание на округление!\n",
    "var = 0.173456\n",
    "print(f'Сравним {var}, {var:.2f}, {var:.1f}')"
   ]
  },
  {
   "cell_type": "markdown",
   "metadata": {},
   "source": [
    "### Задание - расскажи немного о себе\n",
    "    необходимо написать функцию, которая принимает имя, возвраст и среднюю оценку и отображает информацию тремя разными способами."
   ]
  },
  {
   "cell_type": "code",
   "execution_count": 73,
   "metadata": {},
   "outputs": [
    {
     "name": "stdout",
     "output_type": "stream",
     "text": [
      "f-string: Hello, my name Moxem, i am 13 old, i have 4.6 mark\n",
      "python-style: Hello, my name Moxem, i am 13 old, i have 4.6 mark\n",
      "C - style: Hello, my name Moxem, i am 13 old, i have 4.6 mark\n"
     ]
    }
   ],
   "source": [
    "def function_of_string_god(name, age, middleMark):\n",
    "    print(f'f-string: Hello, my name {name}, i am {age} old, i have {middleMark:.1f} mark')\n",
    "    print('python-style: Hello, my name {}, i am {} old, i have {:.1f} mark'.format(name, age, middleMark))\n",
    "    template_string = 'C - style: Hello, my name %s, i am %d old, i have %.1f mark'\n",
    "    formatted_string = template_string % (name, age, middleMark)    \n",
    "    print(formatted_string)\n",
    "function_of_string_god(\"Moxem\", 13, 4.57)"
   ]
  }
 ],
 "metadata": {
  "kernelspec": {
   "display_name": "Python 3.9.1 64-bit",
   "language": "python",
   "name": "python3"
  },
  "language_info": {
   "codemirror_mode": {
    "name": "ipython",
    "version": 3
   },
   "file_extension": ".py",
   "mimetype": "text/x-python",
   "name": "python",
   "nbconvert_exporter": "python",
   "pygments_lexer": "ipython3",
   "version": "3.9.1"
  },
  "orig_nbformat": 4,
  "vscode": {
   "interpreter": {
    "hash": "c39b3e56ba0db5d51736ded1fdde5a20f704ded4cb541ab932f5f1b66607746a"
   }
  }
 },
 "nbformat": 4,
 "nbformat_minor": 2
}
